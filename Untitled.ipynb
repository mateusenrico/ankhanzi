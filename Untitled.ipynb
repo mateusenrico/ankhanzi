{
 "cells": [
  {
   "cell_type": "code",
   "execution_count": 11,
   "id": "70939cf5",
   "metadata": {},
   "outputs": [],
   "source": [
    "import pandas as pd\n",
    "df = pd.read_json(\"./static/out/DICT-2.json\")\n",
    "anki = pd.read_csv(\"./static/anki_decks.txt\", sep=\"\\t\")\n",
    "                #    ,usecols=['key', 'simplified', 'traditional', 'marks', 'numbers', 'def', 'speech', 'audio', 'homophone', 'homograph', 'sentsimp', 'senttrad', 'sentsimpc', 'senttradc', 'sentmarks', 'sentnumbers', 'sentdef', 'sentaudio', 'sentimg', 'quantity', 'tags'])\n",
    "\n",
    "anki.tags = anki.tags.apply(lambda x: x.split(' '))\n",
    "cp = pd.read_csv('./static/chines_p1.csv')\n",
    "cp = cp.drop_duplicates().reset_index(drop=True)\n",
    "\n",
    "outside = []\n",
    "for i in anki.simplified:\n",
    "    if i not in df.simplified.to_list():\n",
    "        outside.append(i)\n",
    "\n",
    "temp_anki = anki[~anki.simplified.isin(outside)].sort_values('simplified')\n",
    "temp_df = df[df.simplified.isin(temp_anki.simplified.to_list())].sort_values('simplified')\n",
    "\n",
    "for ((i, r), (x, y)) in zip(temp_df.iterrows(), temp_anki.iterrows()):\n",
    "    df.at[i, 'tags'] = y.tags\n",
    "    df.at[i, 'on_anki'] = True\n",
    "    df.at[i, 'was_discovered'] = True\n",
    "    \n",
    "anki[anki.simplified.isin(outside)][['simplified', 'tags']].to_csv('saida_errosanki.csv')\n",
    "\n",
    "outsidecp = []\n",
    "for i in cp.Palavras:\n",
    "    if i not in df.simplified.to_list():\n",
    "        outsidecp.append(i)\n",
    "        \n",
    "temp_cp = cp[~cp.Palavras.isin(outsidecp)].sort_values('Palavras')\n",
    "temp_df = df[df.simplified.isin(temp_cp.Palavras.to_list())].sort_values('simplified')\n",
    "\n",
    "for i, r in temp_df.iterrows():\n",
    "    df.at[i, 'tags'].append('OWN.General')\n",
    "    df.at[i, 'was_discovered'] = True\n",
    "    \n",
    "routside = [x + '儿' if x[-1] != '儿' else x[:-1] if x[-1] == '儿' else x for x in outside]\n",
    "rcpoutside = [x + '儿' if x[-1] != '儿' else x[:-1] if x[-1] == '儿' else x for x in outsidecp]\n",
    "\n",
    "df.to_json('saida.json', orient='records', indent=4)\n",
    "df.to_csv('saida.csv', sep='\\t')"
   ]
  },
  {
   "cell_type": "code",
   "execution_count": null,
   "id": "eff38268",
   "metadata": {},
   "outputs": [],
   "source": []
  }
 ],
 "metadata": {
  "kernelspec": {
   "display_name": "Python 3.9.12",
   "language": "python",
   "name": "python3"
  },
  "language_info": {
   "codemirror_mode": {
    "name": "ipython",
    "version": 3
   },
   "file_extension": ".py",
   "mimetype": "text/x-python",
   "name": "python",
   "nbconvert_exporter": "python",
   "pygments_lexer": "ipython3",
   "version": "3.9.12"
  },
  "vscode": {
   "interpreter": {
    "hash": "3067ead486e059ec00ffe7555bdb889e6e264a24dc711bf108106cc7baee8d5d"
   }
  }
 },
 "nbformat": 4,
 "nbformat_minor": 5
}
